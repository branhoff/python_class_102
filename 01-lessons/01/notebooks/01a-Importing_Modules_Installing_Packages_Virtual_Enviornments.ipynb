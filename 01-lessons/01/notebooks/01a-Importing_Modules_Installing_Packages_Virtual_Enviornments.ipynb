{
 "cells": [
  {
   "cell_type": "markdown",
   "metadata": {},
   "source": [
    "# Importing Modules, Installing Packages, Virtual Enviornments"
   ]
  },
  {
   "cell_type": "markdown",
   "metadata": {},
   "source": [
    "## Modules"
   ]
  },
  {
   "cell_type": "code",
   "execution_count": 3,
   "metadata": {},
   "outputs": [],
   "source": [
    "# Run this cell before continuing on with the rest of this notebook. Jupyter notebooks are notoriously bad\n",
    "# at importing... which is the subject at hand. This block of code will tell the jupyter notebook \n",
    "# enviornment where to look for other modules\n",
    "import sys\n",
    "sys.path.append('../src/')"
   ]
  },
  {
   "cell_type": "markdown",
   "metadata": {},
   "source": [
    "A **module** is just a normal Python file that contains definitions of functions or classes that you would like to use in another file.  Let's say you have a file named \"mystats.py\" that defines some classes and functions for statistical computations.  If you want another file to be able to use them, you can put an import statement at the top of your code like in the example below.\n",
    "\n",
    "Let's say that a function named *find_mean* is defined in *mystats.py* which is saved in the *src* directory in the *01* parent directory you're working in now.  Because we imported mystats, we can now use that function, but we have to put \"mystats.\" in front of the function name."
   ]
  },
  {
   "cell_type": "code",
   "execution_count": 4,
   "metadata": {},
   "outputs": [
    {
     "output_type": "stream",
     "name": "stdout",
     "text": [
      "31.333333333333332\n"
     ]
    }
   ],
   "source": [
    "import mystats  # you don't need \".py\" here\n",
    "some_list = [20, 38, 3, 43, 10, 74]\n",
    "mean_val = mystats.find_mean(some_list)\n",
    "print(mean_val)"
   ]
  },
  {
   "cell_type": "markdown",
   "metadata": {},
   "source": [
    "If we'd rather not have to put \"mystats.\" in front of a function or class name, we can use this form of the import statement:\n",
    "\n",
    "    from mystats import find_mode\n",
    "    \n",
    "Then we could use find_mode in the usual way:\n",
    "\n",
    "    mode_val = find_mode(some_list)\n",
    "    \n",
    "If there were multiple functions and/or classes we want to import from the same module, we could list them like this:\n",
    "\n",
    "    from mystats import find_mode, find_mean, find_median\n",
    "    \n",
    "There are lots of useful modules that come as part of the Python standard library, which is what people mean when they say Python comes with \"batteries included\".  There are modules for various types of math, working with files and directories, data compression, cryptography, email, web pages, etc.  There are also a ton of third-party modules which are provided in \"packages\" you can install, which we'll discuss in a moment."
   ]
  },
  {
   "cell_type": "markdown",
   "metadata": {},
   "source": [
    "## Main functions"
   ]
  },
  {
   "cell_type": "markdown",
   "metadata": {},
   "source": [
    "Refer to the *src* directory for the relevant modules we'll be utilizing here. Let's imagine we want to import the *calc.py* file saved in the src directory."
   ]
  },
  {
   "cell_type": "code",
   "execution_count": 6,
   "metadata": {},
   "outputs": [
    {
     "output_type": "stream",
     "name": "stdout",
     "text": [
      "15\n"
     ]
    }
   ],
   "source": [
    "import calc"
   ]
  },
  {
   "cell_type": "markdown",
   "metadata": {},
   "source": [
    "If we run this file as a script, the assignment and print statements will execute, which is what you would expect.  However, we might want to also be able to import the file as a module so that other programs can use the mult and add functions.  If you do import it as a module, as in the Repl above, you can see how the assignment and print statements will execute when the file is imported, which might not be what you want.  It would be nice if we could have code that executes when the file is run as a script, but doesn't execute when the file is imported. Fortunately, we can achieve this by using a main function and a common conditional argument that should become standard in all of your *.py* files that you ever intend to run.\n",
    "\n",
    "Review the updated version of *calc.py*, *new_calc.py*. Here's an example that modifies our previous code:"
   ]
  },
  {
   "cell_type": "code",
   "execution_count": 5,
   "metadata": {},
   "outputs": [],
   "source": [
    "import new_calc"
   ]
  },
  {
   "cell_type": "markdown",
   "metadata": {},
   "source": [
    "We've enclosed inside the main() function the code that should execute when the file is run as a script.  The if statement at the bottom determines whether the main function is called.  If the file is being run as a script, the special variable \\_\\_name\\_\\_ will equal  '\\_\\_main\\_\\_' and the main function gets called.  If the file is being imported as a module, then \\_\\_name\\_\\_ will equal the name of the module and the main function does not get called.  The interpreter doesn't actually care if you give the main function a different name, but you should use the usual name so its intent is clear to other people reading your code."
   ]
  },
  {
   "cell_type": "markdown",
   "metadata": {},
   "source": [
    "## Packages"
   ]
  },
  {
   "cell_type": "markdown",
   "metadata": {},
   "source": [
    "**Packages** are a way to group and organize modules.  If our *mystats* module were part of a *mymath* package, we could import it like this:\n",
    "\n",
    "    import mymath.mystats as stats\n",
    "    mode_val = stats.find_mode(some_list)\n",
    "    \n",
    "The **as** keyword lets us assign an easier name, so we don't have to keep typing \"mymath.mystats\".   The as keyword can also be used with modules that are not part of a package, but individual module names don't usually need to be simplified.\n",
    "\n",
    "We could also import just the find_mode function like this:\n",
    "\n",
    "    from mymath.mystats import find_mode\n",
    "    mode_val = find_mode(some_list)"
   ]
  },
  {
   "cell_type": "markdown",
   "metadata": {},
   "source": [
    "### Installing a Package"
   ]
  },
  {
   "cell_type": "markdown",
   "metadata": {},
   "source": [
    "Many IDE's have specific ways of letting you install packages, but the tried and true way is simply just using pip install. \n",
    "\n",
    "You can do this in your git bash terminal or the command prompt/terminal associated with your OS. You can also open the terminal in VS Code and simply type in *pip install your_package_here*.\n",
    "\n",
    "If you're using a Mac with Python 3.5 ore more you'll likely need to type *pip3 install...*\n",
    "\n",
    "You can learn plenty about python package management from the great Corey Schafer: https://www.youtube.com/watch?v=U2ZN104hIcc\n",
    "\n",
    " \n"
   ]
  },
  {
   "cell_type": "markdown",
   "metadata": {},
   "source": [
    "## Virtual Enviornments"
   ]
  },
  {
   "cell_type": "markdown",
   "metadata": {},
   "source": [
    "Virtual environments are the solution to a problem that you hopefully haven't encountered yet, which is how to allow different projects to use different versions of the Python interpreter, as well as different versions of various packages.  Software developers generally try to maintain backward compatibility, so that new versions of interpreters or packages don't break old code, but sometimes a change seems beneficial enough to be worth it.  The biggest example of this for the Python interpreter is the jump from Python 2 to Python 3.  There needs to be a way to use Python 3 for new projects, but still be able to run the old Python 2 projects.  The same thing goes for different versions of packages.  If a package gets updated in a way that breaks your code, you still want to be able to run your existing projects.\n",
    "\n",
    "A virtual environment allows a project to have its own tailored environment with its own specific versions of the interpreter and of whatever packages it needs.  You can have any number of virtual environments, and each one can run independently of the needs of other projects.  No man is an island, but a Python project can be.\n",
    "\n",
    "There are a few different tools for setting up virtual environments, the main ones right now being venv and conda. It's a good habit to get into setting up a virtual enviornment for your projects in this course, rather than just pip installing to your global python development.\n",
    "\n",
    "In this iteration, I won't be formally teaching about virtual enviornments, but you should refer to more of Corey Shafer's work on this and try to apply it yourself in your IDE exercises.\n",
    "\n",
    "Windows venv setup: https://www.youtube.com/watch?v=APOPm01BVrk&t=62s\n",
    "\n",
    "Mac/Linux venv setup: https://www.youtube.com/watch?v=Kg1Yvry_Ydk&t=240s\n",
    "\n"
   ]
  },
  {
   "cell_type": "markdown",
   "metadata": {},
   "source": [
    "## Exercises"
   ]
  },
  {
   "cell_type": "markdown",
   "metadata": {},
   "source": [
    "Try these out on your computer using VS Code or the IDE of your choice:\n",
    "\n",
    "1. Write a function named distance that takes four parameters: the x- and y-coordinates of the first point, followed by the x- and y-coordinates of the second point.  It should return the distance between those two points, using the Pythagorean Theorem, for which you will need to import the math module (https://docs.python.org/3/library/math.html) and use the math.sqrt() function.\n",
    "\n",
    "\n",
    "    Example 1: d = distance(3, 5, -1, 2); Your function should return d = 5\n",
    "\n",
    "    Example 2: d = distance(0, 0, 0, 0); Your function should return d = 0\n",
    "   \n",
    "\n",
    "2.  Copy your *distance* function from #1 into a file in PyCharm.  Then write a main function that will execute and call the distance function if the file is run as a script, but not if the file is imported into another file.  Test it out by running it as a script and by creating another file that imports it and running that file as a script."
   ]
  },
  {
   "cell_type": "code",
   "execution_count": null,
   "metadata": {},
   "outputs": [],
   "source": []
  }
 ],
 "metadata": {
  "kernelspec": {
   "name": "python382jvsc74a57bd0bbb5d64838647c9aec07659d427a5725e456c22b810c36799c15d93a85c48469",
   "display_name": "Python 3.8.2 32-bit"
  },
  "language_info": {
   "codemirror_mode": {
    "name": "ipython",
    "version": 3
   },
   "file_extension": ".py",
   "mimetype": "text/x-python",
   "name": "python",
   "nbconvert_exporter": "python",
   "pygments_lexer": "ipython3",
   "version": "3.8.2"
  }
 },
 "nbformat": 4,
 "nbformat_minor": 4
}