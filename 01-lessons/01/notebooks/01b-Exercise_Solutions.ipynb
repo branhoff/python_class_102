{
 "metadata": {
  "language_info": {
   "codemirror_mode": {
    "name": "ipython",
    "version": 3
   },
   "file_extension": ".py",
   "mimetype": "text/x-python",
   "name": "python",
   "nbconvert_exporter": "python",
   "pygments_lexer": "ipython3",
   "version": "3.8.2"
  },
  "orig_nbformat": 2,
  "kernelspec": {
   "name": "python382jvsc74a57bd0bbb5d64838647c9aec07659d427a5725e456c22b810c36799c15d93a85c48469",
   "display_name": "Python 3.8.2 32-bit"
  }
 },
 "nbformat": 4,
 "nbformat_minor": 2,
 "cells": [
  {
   "source": [
    "## Exercise Solutions"
   ],
   "cell_type": "markdown",
   "metadata": {}
  },
  {
   "source": [
    "### Importing modules, installing packages, virtual environments"
   ],
   "cell_type": "markdown",
   "metadata": {}
  },
  {
   "source": [
    "Try these out on your computer using VS Code or the IDE of your choice:\n",
    "\n",
    "1. Write a function named distance that takes four parameters: the x- and y-coordinates of the first point, followed by the x- and y-coordinates of the second point.  It should return the distance between those two points, using the Pythagorean Theorem, for which you will need to import the math module (https://docs.python.org/3/library/math.html) and use the math.sqrt() function.\n",
    "\n",
    "\n",
    "    Example 1: d = distance(3, 5, -1, 2); Your function should return d = 5\n",
    "\n",
    "    Example 2: d = distance(0, 0, 0, 0); Your function should return d = 0"
   ],
   "cell_type": "markdown",
   "metadata": {}
  },
  {
   "cell_type": "code",
   "execution_count": 1,
   "metadata": {},
   "outputs": [],
   "source": [
    "from math import sqrt\n",
    "\n",
    "def distance(x1, y1, x2, y2):\n",
    "    return sqrt((x2 - x1)**2 + (y2-y1)**2)"
   ]
  },
  {
   "source": [
    "2.  Copy your *distance* function from #1 into a file in PyCharm.  Then write a main function that will execute and call the distance function if the file is run as a script, but not if the file is imported into another file.  Test it out by running it as a script and by creating another file that imports it and running that file as a script."
   ],
   "cell_type": "markdown",
   "metadata": {}
  },
  {
   "cell_type": "code",
   "execution_count": null,
   "metadata": {},
   "outputs": [],
   "source": [
    "from math import sqrt\n",
    "\n",
    "def distance(x1, y1, x2, y2):\n",
    "    return sqrt((x2 - x1)**2 + (y2-y1)**2)\n",
    "\n",
    "def main():\n",
    "    print(distance(2,5, 3,1))\n",
    "\n",
    "if __name__ == '__main__':\n",
    "    main()"
   ]
  }
 ]
}