{
 "cells": [
  {
   "cell_type": "markdown",
   "metadata": {},
   "source": [
    "# Importing Modules, Installing Packages, Virtual Enviornments"
   ]
  },
  {
   "cell_type": "markdown",
   "metadata": {},
   "source": [
    "## Modules"
   ]
  },
  {
   "cell_type": "markdown",
   "metadata": {},
   "source": [
    "A **module** is just a normal Python file that contains definitions of functions or classes that you would like to use in another file.  Let's say you have a file named \"mystats.py\" that defines some classes and functions for statistical computations.  If you want another file to be able to use them, you can put an import statement at the top of your code like in the example below.\n",
    "\n",
    "Let's say that a function named *find_mean* is defined in *mystats.py*.  Because we imported mystats, we can now use that function, but we have to put \"mystats.\" in front of the function name."
   ]
  },
  {
   "cell_type": "code",
   "execution_count": 1,
   "metadata": {},
   "outputs": [
    {
     "ename": "ModuleNotFoundError",
     "evalue": "No module named 'my_stats'",
     "output_type": "error",
     "traceback": [
      "\u001b[1;31m---------------------------------------------------------------------------\u001b[0m",
      "\u001b[1;31mModuleNotFoundError\u001b[0m                       Traceback (most recent call last)",
      "\u001b[1;32m<ipython-input-1-6aee1e59400d>\u001b[0m in \u001b[0;36m<module>\u001b[1;34m\u001b[0m\n\u001b[1;32m----> 1\u001b[1;33m \u001b[1;32mimport\u001b[0m \u001b[0mmy_stats\u001b[0m  \u001b[1;31m# you don't need \".py\" here\u001b[0m\u001b[1;33m\u001b[0m\u001b[1;33m\u001b[0m\u001b[0m\n\u001b[0m\u001b[0;32m      2\u001b[0m \u001b[0msome_list\u001b[0m \u001b[1;33m=\u001b[0m \u001b[1;33m[\u001b[0m\u001b[1;36m20\u001b[0m\u001b[1;33m,\u001b[0m \u001b[1;36m38\u001b[0m\u001b[1;33m,\u001b[0m \u001b[1;36m3\u001b[0m\u001b[1;33m,\u001b[0m \u001b[1;36m43\u001b[0m\u001b[1;33m,\u001b[0m \u001b[1;36m10\u001b[0m\u001b[1;33m,\u001b[0m \u001b[1;36m74\u001b[0m\u001b[1;33m]\u001b[0m\u001b[1;33m\u001b[0m\u001b[1;33m\u001b[0m\u001b[0m\n\u001b[0;32m      3\u001b[0m \u001b[0mmean_val\u001b[0m \u001b[1;33m=\u001b[0m \u001b[0mmy_stats\u001b[0m\u001b[1;33m.\u001b[0m\u001b[0mfind_mean\u001b[0m\u001b[1;33m(\u001b[0m\u001b[0msome_list\u001b[0m\u001b[1;33m)\u001b[0m\u001b[1;33m\u001b[0m\u001b[1;33m\u001b[0m\u001b[0m\n\u001b[0;32m      4\u001b[0m \u001b[0mprint\u001b[0m\u001b[1;33m(\u001b[0m\u001b[0mmean_val\u001b[0m\u001b[1;33m)\u001b[0m\u001b[1;33m\u001b[0m\u001b[1;33m\u001b[0m\u001b[0m\n",
      "\u001b[1;31mModuleNotFoundError\u001b[0m: No module named 'my_stats'"
     ]
    }
   ],
   "source": [
    "import mystats  # you don't need \".py\" here\n",
    "some_list = [20, 38, 3, 43, 10, 74]\n",
    "mean_val = my_stats.find_mean(some_list)\n",
    "print(mean_val)"
   ]
  },
  {
   "cell_type": "markdown",
   "metadata": {},
   "source": [
    "If we'd rather not have to put \"mystats.\" in front of a function or class name, we can use this form of the import statement:\n",
    "\n",
    "    from mystats import find_mode\n",
    "    \n",
    "Then we could use find_mode in the usual way:\n",
    "\n",
    "    mode_val = find_mode(some_list)\n",
    "    \n",
    "If there were multiple functions and/or classes we want to import from the same module, we could list them like this:\n",
    "\n",
    "    from mystats import find_mode, find_mean, find_median\n",
    "    \n",
    "There are lots of useful modules that come as part of the Python standard library, which is what people mean when they say Python comes with \"batteries included\".  There are modules for various types of math, working with files and directories, data compression, cryptography, email, web pages, etc.  There are also a ton of third-party modules which are provided in \"packages\" you can install, which we'll discuss in a moment."
   ]
  },
  {
   "cell_type": "markdown",
   "metadata": {},
   "source": [
    "## Main functions"
   ]
  },
  {
   "cell_type": "markdown",
   "metadata": {},
   "source": [
    "Say we have the following Python file. If you check the \"01\" file on your local machine or in an IDE, you can see both the main.py file and the calc.py file. "
   ]
  },
  {
   "cell_type": "code",
   "execution_count": 3,
   "metadata": {},
   "outputs": [
    {
     "ename": "ModuleNotFoundError",
     "evalue": "No module named 'calc'",
     "output_type": "error",
     "traceback": [
      "\u001b[1;31m---------------------------------------------------------------------------\u001b[0m",
      "\u001b[1;31mModuleNotFoundError\u001b[0m                       Traceback (most recent call last)",
      "\u001b[1;32m<ipython-input-3-df4e6da068dc>\u001b[0m in \u001b[0;36m<module>\u001b[1;34m\u001b[0m\n\u001b[1;32m----> 1\u001b[1;33m \u001b[1;32mimport\u001b[0m \u001b[0mcalc\u001b[0m\u001b[1;33m\u001b[0m\u001b[1;33m\u001b[0m\u001b[0m\n\u001b[0m",
      "\u001b[1;31mModuleNotFoundError\u001b[0m: No module named 'calc'"
     ]
    }
   ],
   "source": [
    "import calc"
   ]
  },
  {
   "cell_type": "markdown",
   "metadata": {},
   "source": [
    "If we run this file as a script, the assignment and print statements will execute, which is what you would expect.  However, we might want to also be able to import the file as a module so that other programs can use the mult and add functions.  If you do import it as a module, as in the Repl above, you can see how the assignment and print statements will execute when the file is imported, which might not be what you want.  It would be nice if we could have code that executes when the file is run as a script, but doesn't execute when the file is imported. Happily, we can achieve this by using a main function.\n",
    "\n",
    "Here's an example that modifies our previous code:"
   ]
  },
  {
   "cell_type": "code",
   "execution_count": null,
   "metadata": {},
   "outputs": [],
   "source": [
    "import calc\n",
    "\n",
    "print(calc.mult(10, 2))"
   ]
  },
  {
   "cell_type": "markdown",
   "metadata": {},
   "source": [
    "We've enclosed inside the main() function the code that should execute when the file is run as a script.  The if statement at the bottom determines whether the main function is called.  If the file is being run as a script, the special variable \\_\\_name\\_\\_ will equal  '\\_\\_main\\_\\_' and the main function gets called.  If the file is being imported as a module, then \\_\\_name\\_\\_ will equal the name of the module and the main function does not get called.  The interpreter doesn't actually care if you give the main function a different name, but you should use the usual name so its intent is clear to other people reading your code."
   ]
  },
  {
   "cell_type": "markdown",
   "metadata": {},
   "source": [
    "## Packages"
   ]
  },
  {
   "cell_type": "markdown",
   "metadata": {},
   "source": [
    "**Packages** are a way to group and organize modules.  If our *mystats* module were part of a *mymath* package, we could import it like this:\n",
    "\n",
    "    import mymath.mystats as stats\n",
    "    mode_val = stats.find_mode(some_list)\n",
    "    \n",
    "The **as** keyword lets us assign an easier name, so we don't have to keep typing \"mymath.mystats\".   The as keyword can also be used with modules that are not part of a package, but individual module names don't usually need to be simplified.\n",
    "\n",
    "We could also import just the find_mode function like this:\n",
    "\n",
    "    from mymath.mystats import find_mode\n",
    "    mode_val = find_mode(some_list)"
   ]
  },
  {
   "cell_type": "markdown",
   "metadata": {},
   "source": [
    "### Installing a Package in PyCharm"
   ]
  },
  {
   "cell_type": "markdown",
   "metadata": {},
   "source": [
    "In PyCharm, you can install a package for a particular Python interpreter by following these steps:\n",
    "\n",
    "   1. Go to Settings/Preferences and select the Project Interpreter page.  This lists all of the currently installed packages for that interpreter.\n",
    "   2. Click the \"+\" symbol near the bottom of the window.  This will bring up a very long list of available packages.\n",
    "   3. You can use the search bar to narrow the list.  Try typing \"numpy\" into the search bar.  Now the list is only of packages whose names contain \"numpy\".\n",
    "   4. With the first one selected - just plain \"numpy\" - click the \"Install Package\" button at the bottom of the window.\n",
    "   5. Now if you close those windows and re-open the Project Interpreter page, you should see \"numpy\" in the list of packages.\n",
    "\n",
    " \n",
    "\n",
    "Another way to install a package in PyCharm is:\n",
    "\n",
    "   1. In Pycharm open a new Python file.\n",
    "   2. Write 'from package import module'.\n",
    "   3. Hover over the word 'package' with red underline.\n",
    "   4. Click on “Install package” button that pops up.\n",
    "   5. Wait for the Installation to finish.\n"
   ]
  },
  {
   "cell_type": "markdown",
   "metadata": {},
   "source": [
    "## Virtual Enviornments"
   ]
  },
  {
   "cell_type": "markdown",
   "metadata": {},
   "source": [
    "Virtual environments are the solution to a problem that you hopefully haven't encountered yet, which is how to allow different projects to use different versions of the Python interpreter, as well as different versions of various packages.  Software developers generally try to maintain backward compatibility, so that new versions of interpreters or packages don't break old code, but sometimes a change seems beneficial enough to be worth it.  The biggest example of this for the Python interpreter is the jump from Python 2 to Python 3.  There needs to be a way to use Python 3 for new projects, but still be able to run the old Python 2 projects.  The same thing goes for different versions of packages.  If a package gets updated in a way that breaks your code, you still want to be able to run your existing projects.\n",
    "\n",
    "A virtual environment allows a project to have its own tailored environment with its own specific versions of the interpreter and of whatever packages it needs.  You can have any number of virtual environments, and each one can run independently of the needs of other projects.  No man is an island, but a Python project can be.\n",
    "\n",
    "There are a few different tools for setting up virtual environments, the main ones right now being venv and conda.  We won't go into the details here of how to create a virtual environment.  If you've needed one already because of some conflict on your system, you presumably found out and were helped with that in CS 161.  If you haven't needed one already, then you shouldn't need one for this course.  However it's important to be aware of virtual environments because you will need them sooner or later."
   ]
  },
  {
   "cell_type": "markdown",
   "metadata": {},
   "source": [
    "## Exercises"
   ]
  },
  {
   "cell_type": "markdown",
   "metadata": {},
   "source": [
    "Try these out on your computer using PyCharm:\n",
    "\n",
    "1. Write a function named distance that takes four parameters: the x- and y-coordinates of the first point, followed by the x- and y-coordinates of the second point.  It should return the distance between those two points, using the Pythagorean Theorem, for which you will need to import the math module (https://docs.python.org/3/library/math.html) and use the math.sqrt() function.\n",
    "\n",
    "   Example1: d = distance(3, 5, -1, 2); Your function should return d = 5\n",
    "\n",
    "   Example 2: d = distance(0, 0, 0, 0); Your function should return d = 0\n",
    "   \n",
    "\n",
    "\n",
    "2. Write a main function that will execute and call the *distance* function if the file is run as a script, but not if the file is imported into another file.  Test it out by running it as a script and by creating another file that imports it and running that file as a script."
   ]
  }
 ],
 "metadata": {
  "kernelspec": {
   "display_name": "Python 3",
   "language": "python",
   "name": "python3"
  },
  "language_info": {
   "codemirror_mode": {
    "name": "ipython",
    "version": 3
   },
   "file_extension": ".py",
   "mimetype": "text/x-python",
   "name": "python",
   "nbconvert_exporter": "python",
   "pygments_lexer": "ipython3",
   "version": "3.8.2"
  }
 },
 "nbformat": 4,
 "nbformat_minor": 4
}
