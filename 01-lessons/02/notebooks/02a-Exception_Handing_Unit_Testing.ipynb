{
 "cells": [
  {
   "cell_type": "markdown",
   "metadata": {},
   "source": [
    "# Exception Handling, Unit Testing\n",
    "## Exception Handling"
   ]
  },
  {
   "cell_type": "code",
   "execution_count": 1,
   "metadata": {},
   "outputs": [],
   "source": [
    "# Run this cell before continuing on with the rest of this notebook. Jupyter notebooks are notoriously bad\n",
    "# at importing... which is the subject at hand. This block of code will tell the jupyter notebook \n",
    "# enviornment where to look for other modules\n",
    "import sys\n",
    "sys.path.append('../src/')"
   ]
  },
  {
   "cell_type": "markdown",
   "metadata": {},
   "source": [
    "There are two kinds of problems that stop your program and print an error message.  The first kind is syntax errors - things like a missing parenthesis or colon, for example.  Things like that prevent the Python interpreter from being able to parse the meaning of the code.  When that happens, the interpreter will print out the line where it detected the problem, with a little arrow pointing to the specific place in the line that it thinks you should look at.  You also get an error message that says \"SyntaxError\" and a brief description of the problem.  For example:\n",
    "\n",
    "    SyntaxError: unexpected EOF while parsing\n",
    "\n",
    "**Exceptions** include all of the other errors that stop your program and print an error message.  For these the interpreter will print out the line where it detected the problem and print out what type of exception occurred, with a brief description of the problem.  For example:\n",
    "\n",
    "    NameError: name 'phrase' is not defined\n",
    "\n",
    "    TypeError: unsupported operand type(s) for ** or pow(): 'str' and 'str'\n",
    "\n",
    "    ZeroDivisionError: division by zero\n",
    "\n",
    "Instead of allowing an exception to halt a program, you can write code to **handle** the exception.  In this example we'll handle the *ZeroDivisionError*, which is **raised** if you try to divide (or mod) by zero.\n",
    "\n",
    "Try entering entering a variety of values below to throw ZeroDivision and Overflow errors"
   ]
  },
  {
   "cell_type": "code",
   "execution_count": 2,
   "metadata": {},
   "outputs": [
    {
     "name": "stdout",
     "output_type": "stream",
     "text": [
      "Result =  1e+308\n",
      "All done here.\n"
     ]
    }
   ],
   "source": [
    "numerator = 10**309\n",
    "denominator = int(input(\"enter a number for the denominator: \"))\n",
    "\n",
    "try:    \n",
    "    result = float(numerator / denominator)\n",
    "except ZeroDivisionError:    \n",
    "    print(\"Division by zero is undefined.\")\n",
    "except OverflowError:    \n",
    "    print(\"Too big!\")\n",
    "else:    \n",
    "    print(\"Result = \", result)\n",
    "finally:\n",
    "    print(\"All done here.\")"
   ]
  },
  {
   "cell_type": "markdown",
   "metadata": {},
   "source": [
    "The **try** block includes the code that might raise an exception.  The **except** block specifies which exception is being handled and then describes what should happen if that exception is raised.  If you run the above example with a denominator of zero, then the code in the first except block will execute.  You can see how if the code in the try block can cause multiple exceptions to be raised, you can have multiple except blocks to handle them.\n",
    "\n",
    "If you run this example with a denominator of 1, it will execute the code in the second except block (because the result is too large for an int or float to hold).  \n",
    "\n",
    "The **else** block at the end is optional, but if used it must be placed after all of the except blocks.  It executes only if the code in the try block doesn't cause any exceptions.  This can be useful for code that directly depends on the code in the try block executing successfully.  If you run this example with a denominator of 10, it will execute the else block. \n",
    "\n",
    "There is also an optional **finally** block, which is for clean up actions that should always happen, whether or not an exception was raised.  This is typically used to release a resource the program is using (for example closing a file).  This functionality has largely been superseded by the **with** statement, which we'll encounter in the lesson on file handling."
   ]
  },
  {
   "cell_type": "markdown",
   "metadata": {},
   "source": [
    "### Raising Exceptions and User Defined Exceptions\n",
    "You can **raise** an exception yourself with the raise keyword, for example:\n",
    "\n",
    "    raise NameError\n",
    "\n",
    "Most of the time you don't need to raise one of the built-in exceptions - you would usually be raising an exception that you've defined for your program.  You define an exception as a class that *inherits* from **Exception**.  Inheritance lets you create a class based on an existing class - you'll learn more about that in the next module.  You don't need to define any data members or methods for an exception class - instead, we'll use the **pass** keyword to tell the Python interpreter that the body is empty:\n",
    "\n",
    "    class ImaginaryNumberError(Exception):\n",
    "        pass\n",
    "\n",
    "Then if one of your functions can't finish its calculation because of an imaginary number, it can raise the exception you defined, like this:\n",
    "\n",
    "    if intermediateResult >= 0:\n",
    "        final_result = math.sqrt(intermediateResult)\n",
    "    else:\n",
    "        raise ImaginaryNumberError\n",
    "\n",
    "Then whoever is calling your function can put the function call inside a try block and handle it with an except block."
   ]
  },
  {
   "cell_type": "markdown",
   "metadata": {},
   "source": [
    "## Unit Testing\n",
    "Unit testing refers to testing individual units of code to make sure they work correctly before integrating them with other code.  There are multiple modules available for unit testing in Python, but **unittest** is the one that's part of the Python Standard Library, so that's what we'll use here.\n",
    "\n",
    "The unittest module defines a number of **assertions** that can be used to verify whether a certain condition holds.  Here's a partial list:\n",
    "\n",
    "\n",
    "|Assertions|Definition|\n",
    "| --- | --- |\n",
    "|`assertEqual(a,b)`|asserts that a and b are equal\n",
    "|`assertNotEqual(a,b)`|asserts that a and b are not equal\n",
    "|`assertTrue(p)`|asserts that p is true\n",
    "|`assertFalse(p)`|asserts that p is not true\n",
    "|`assertIs(a, b)`|asserts that a is b\n",
    "|`assertIsNot(a, b)`|asserts that a is not b\n",
    "|`assertIn(a, b)`|asserts that a is in b\n",
    "|`assertNotIn(a, b)`|asserts that a is not in b\n",
    "|`assertAlmostEqual(a, b, n)`|asserts that a and b are equal to n decimal places\n",
    "|`assertNotAlmostEqual(a, b, n)`|asserts that a and b are not equal to n decimal places\n",
    "\n",
    "The last two are used to compare whether two float values are very close to equal, since comparing floats for exact equality is problematic due to possible lack of precision or round-off error.\n",
    "\n",
    "To create a test file, first import unittest and import the module that contains the functions or classes you want to test.  Next create a class that inherits from unittest.TestCase.  Inside that class, define your test functions, using whatever assertions are appropriate.  Each test method should have a name that starts with \"test\".  Finally, add a main function that runs \"unittest.main()\".  For example, let's say I want to test a function named listMax() that returns the maximum value from a list.  Suppose it's defined in a file named listfuncs.py.  The test class might look like the following:\n"
   ]
  },
  {
   "cell_type": "code",
   "execution_count": 3,
   "metadata": {},
   "outputs": [
    {
     "name": "stderr",
     "output_type": "stream",
     "text": [
      "....\n",
      "----------------------------------------------------------------------\n",
      "Ran 4 tests in 0.008s\n",
      "\n",
      "OK\n"
     ]
    }
   ],
   "source": [
    "import unittest\n",
    "from listfuncs import list_max\n",
    "\n",
    "class TestListMax(unittest.TestCase):  # The class name can be whatever you want\n",
    "    \"\"\"\n",
    "    Contains unit tests for the listMax function    \n",
    "    \"\"\"\n",
    "\n",
    "    def test_1(self):  # The function names also can be whatever you want        \n",
    "        a_list = [6, 43, 18, 100, 9, 85]        \n",
    "        result = list_max(a_list)        \n",
    "        self.assertEqual(result, 100)\n",
    "\n",
    "    def test_2(self):        \n",
    "        a_list = [-7, -1, -38, -2, -99]        \n",
    "        result = list_max(a_list)        \n",
    "        self.assertEqual(result, -1)    \n",
    "  \n",
    "    def test_3(self):        \n",
    "        a_list = [-3, 7, 96, -102, 58, 14, -8]        \n",
    "        result = list_max(a_list)        \n",
    "        self.assertEqual(result, 96)    \n",
    "  \n",
    "    def test_4(self):        \n",
    "        a_list = [9]        \n",
    "        result = list_max(a_list)        \n",
    "        self.assertEqual(result, 9)\n",
    "\n",
    "if __name__ == '__main__':\n",
    "    unittest.main(argv=['first-arg-is-ignored'], exit=False)\n",
    "    # argv=[\"...\"] is a solution for jupyter notebooks - you won't need it in your code\n",
    "    # exit=False is to, similarly, avoid a jupyter notebook issue - you won't need it in your code"
   ]
  },
  {
   "cell_type": "markdown",
   "metadata": {},
   "source": [
    "The assertion methods are defined as part of the TestCase class of the unittest module.  When this testing class inherits from TestCase, it inherits all those methods.  This is why it calls them with \"self.\" in front of the names of the assertions - because they are (inherited) methods of the testing class.\n",
    "\n",
    "Now if we run this test script (in the same way you normally run Python scripts), it will run all of the tests, print out the number of tests that were run and the number of tests that failed, and give us details about the actual results versus the expected results for the tests that failed."
   ]
  },
  {
   "attachments": {},
   "cell_type": "markdown",
   "metadata": {},
   "source": [
    "## Exercises\n",
    "Try these out on your computer using VS Code or your IDE of choice. You can use the `src` directory or create a new directory called `examples`:\n",
    "\n",
    "1. Define an exception named `OutOfRangeError`.  Write a function named `numberName` that asks the user for an integer, and if it's equal to 1, prints `\"one\"`; if it's equal to 2, prints `\"two\"`, and if it's equal to 3, prints `\"three\"`.  If the the parameter is not one of those three values, the function should raise an `OutOfRangeError`.  Write code that calls `numberName` in a try block, and handles the possible `OutOfRangeError` in an except block.  It should handle an `OutOfRangeError` by printing `\"That's not one of the allowed values!\"`\n",
    "\n",
    "2. Write a function named `mult3` that takes three parameters, multiplies them together, and returns the result.  Now write a test file for that function that contains at least 4 tests.  Remember that the parameters could be ints or floats.\n"
   ]
  }
 ],
 "metadata": {
  "kernelspec": {
   "display_name": "Python 3.8.2 32-bit",
   "name": "python382jvsc74a57bd0bbb5d64838647c9aec07659d427a5725e456c22b810c36799c15d93a85c48469"
  },
  "language_info": {
   "codemirror_mode": {
    "name": "ipython",
    "version": 3
   },
   "file_extension": ".py",
   "mimetype": "text/x-python",
   "name": "python",
   "nbconvert_exporter": "python",
   "pygments_lexer": "ipython3",
   "version": "3.8.2"
  }
 },
 "nbformat": 4,
 "nbformat_minor": 2
}
