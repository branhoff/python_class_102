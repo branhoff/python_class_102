{
 "metadata": {
  "language_info": {
   "codemirror_mode": {
    "name": "ipython",
    "version": 3
   },
   "file_extension": ".py",
   "mimetype": "text/x-python",
   "name": "python",
   "nbconvert_exporter": "python",
   "pygments_lexer": "ipython3",
   "version": 3
  },
  "orig_nbformat": 2
 },
 "nbformat": 4,
 "nbformat_minor": 2,
 "cells": [
  {
   "source": [
    "## Exercise Solutions\n",
    "\n",
    "1. Define an exception named *OutOfRangeError*.  Write a function named *numberName* that asks the user for an integer, and if it's equal to 1, prints \"one\"; if it's equal to 2, prints \"two\", and if it's equal to 3, prints \"three\".  If the the parameter is not one of those three values, the function should raise an *OutOfRangeError*.  Write code that calls numberName in a try block, and handles the possible *OutOfRangeError* in an except block.  It should handle an *OutOfRangeError* by printing \"That's not one of the allowed values!\"\n",
    "\n",
    "\n"
   ],
   "cell_type": "markdown",
   "metadata": {}
  },
  {
   "cell_type": "code",
   "execution_count": null,
   "metadata": {},
   "outputs": [],
   "source": [
    "class OutOfRangeError(Exception):\n",
    "    pass\n",
    "\n",
    "def numberName():\n",
    "    val = int(input(\"Please enter an integer: \"))\n",
    "    if val == 1:\n",
    "        print(\"one\")\n",
    "    elif val == 2:\n",
    "        print(\"two\")\n",
    "    elif val == 3:\n",
    "        print(\"three\")\n",
    "    else:\n",
    "        raise OutOfRangeError\n",
    "\n",
    "try:\n",
    "    numberName()\n",
    "except OutOfRangeError:\n",
    "    print(\"That's not one of the allowed values!\")"
   ]
  },
  {
   "cell_type": "code",
   "execution_count": null,
   "metadata": {},
   "outputs": [],
   "source": []
  },
  {
   "source": [
    "2. Write a function named *mult3* that takes three parameters, multiplies them together, and returns the result.  Now write a test file for that function that contains at least 4 tests.  Remember that the parameters could be ints or floats."
   ],
   "cell_type": "markdown",
   "metadata": {}
  },
  {
   "cell_type": "code",
   "execution_count": null,
   "metadata": {},
   "outputs": [],
   "source": [
    "# exercise2.py\n",
    "def mult3(param1, param2, param3):\n",
    "    '''\n",
    "    :param param1: first number\n",
    "    :param param2: second number\n",
    "    :param param3: third number\n",
    "    :return: product of first, second and third number\n",
    "    '''\n",
    "    product = param1 * param2 * param3\n",
    "    return product"
   ]
  },
  {
   "cell_type": "code",
   "execution_count": null,
   "metadata": {},
   "outputs": [],
   "source": [
    "# tests.py\n",
    "import unittest\n",
    "from exercise2 import mult3\n",
    "\n",
    "class TestMult(unittest.TestCase):\n",
    "    def setUp(self):\n",
    "        pass\n",
    "\n",
    "    def test_mult3_function_accepts_3_integers(self):\n",
    "        \"\"\"\n",
    "        tests that the multiply function can be supplied 3 integers\n",
    "        \"\"\"\n",
    "        num1 = 1\n",
    "        num2 = 2\n",
    "        num3 = 3\n",
    "        try:\n",
    "            mult3(num1, num2, num3)\n",
    "        except Exception:\n",
    "            self.fail(\"mult3 raised an exception when passed 3 integers!\")\n",
    "\n",
    "    def test_mult3_function_accepts_3_floats(self):\n",
    "        \"\"\"\n",
    "        tests that the multiply function can be supplied 3 floats\n",
    "        \"\"\"\n",
    "        num1 = 1.2\n",
    "        num2 = 2.3\n",
    "        num3 = 3.5\n",
    "        try:\n",
    "            mult3(num1, num2, num3)\n",
    "        except Exception:\n",
    "            self.fail(\"mult3 raised an exception when passed 3 floats!\")\n",
    "\n",
    "    def test_mult3_function_computes_the_product_of_3_integers_successfully(self):\n",
    "        \"\"\"\n",
    "        tests that the multiply function, when passed 3 integers, reutrns a correct product\n",
    "        \"\"\"\n",
    "        num1 = 1\n",
    "        num2 = 2\n",
    "        num3 = 3\n",
    "        self.assertEqual(mult3(num1, num2, num3), num1*num2*num3)\n",
    "\n",
    "\n",
    "    def test_mult3_function_computes_the_product_of_3_floats_successfully(self):\n",
    "        \"\"\"\n",
    "        tests that the multiply function, when passed 3 floats, reutrns a correct product\n",
    "        \"\"\"\n",
    "        num1 = 1.2\n",
    "        num2 = 2.3\n",
    "        num3 = 3.5\n",
    "        self.assertAlmostEqual(mult3(num1, num2, num3), num1*num2*num3)"
   ]
  }
 ]
}